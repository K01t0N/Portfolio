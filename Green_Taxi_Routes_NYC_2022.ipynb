{
  "metadata": {
    "language_info": {
      "codemirror_mode": "sql",
      "file_extension": "",
      "mimetype": "",
      "name": "sql",
      "version": "3.32.3"
    },
    "kernelspec": {
      "name": "SQLite",
      "display_name": "SQLite",
      "language": "sql"
    }
  },
  "nbformat_minor": 4,
  "nbformat": 4,
  "cells": [
    {
      "cell_type": "markdown",
      "source": "# Taxi Routes in New York City - 2022\n\n## Contents\n\nBackground\n\nWhat data will be Used\n\nCleaning the data\n\n  Identifying the taxi zones\n    \n    tlc_green_trips_2022\n        \n    taxi_zone_geom\n\n  Identifying the boroughs\n    \nAnalysis\n\nConclusion\n\nReferences\n\n## Background\n\nNew York City is a bustling metropolis, with citizens and tourists alike traveling everywhere within the city. This project tries to gain some insight into different combinations of routes and where a lot of the green taxis go.\n\n## What data will be used\n\nThe dataset that will be used is the `new_york_taxi_trips` dataset from the bigquery-public-data database. The data will be queried through BigQuery.\n\nThese are the tables and columns that will be used for this analysis:\n\n**tlc_green_trips_2022:**\n\n`pickup_location_id` - the zone number that the passenger(s) started their trip\n\n`dropoff_location_id` - the zone number that the passenger(s) ended their trip\n\n**taxi_zone_geom:**\n\n`zone_id` - the number for every taxi zone (this is the same value as pickup_location_id and dropoff_location_id, so it can be joined between tables.)\n\n`zone_name` - the name of every taxi zone\n\n`borough` - the borough that the taxi zone is in\n\n\n## Cleaning the Data\n\n\n### Identifying the Taxi Zones \n\nThese are the four columns of “taxi zones” that will be checked:\n\n**tlc_green_trips_2022 table:**\n\n`pickup_location_id`\n`dropoff_location_id`\n\n**taxi_zone_geom table:**\n\n`zone_id`\n`zone_name`\n\n\n**tlc_green_trips_2022**\n\nChecking for values in the `pickup_location_id` column:",
      "metadata": {}
    },
    {
      "cell_type": "code",
      "source": "SELECT\n  DISTINCT CAST(pickup_location_id AS INT64) AS pickup_number\nFROM `bigquery-public-data.new_york_taxi_trips.tlc_green_trips_2022`\nORDER BY pickup_number",
      "metadata": {
        "tags": []
      },
      "execution_count": null,
      "outputs": []
    },
    {
      "cell_type": "markdown",
      "source": "Checking for values in the `dropoff_location_id` column:",
      "metadata": {}
    },
    {
      "cell_type": "code",
      "source": "SELECT\n  DISTINCT CAST(dropoff_location_id AS INT64) AS dropoff_number\nFROM `bigquery-public-data.new_york_taxi_trips.tlc_green_trips_2022`\nORDER BY dropoff_number",
      "metadata": {},
      "execution_count": null,
      "outputs": []
    },
    {
      "cell_type": "markdown",
      "source": "The `pickup_location_id` column delivers only 258 distinct values between 1 and 265. Because of this, some possible values are not in this table for some reason. The `dropoff_location_id` column returns only 259 distinct values.\n\n#### These are the values that were not in pickup_location_id:\n\n12 (Battery Park), 103 - 105 (Liberty, Ellis, and Governor’s Islands), 110 (Great Kills Park), 199 (Rikers Island), 204 (Rossville/Woodrow)\n\n#### These are the values that were not in dropoff_location_id:\n\n99 (Fresh Kills Park), 103 - 105 (Liberty, Ellis, and Governor’s Islands), 199 (Rikers Island), 204 (Rossville/Woodrow)\n\nBecause almost all of these locations are in parks or islands, it is more likely that these were never pickup or dropoff zones in 2022, rather than data actually missing. See the references at the end for a list and map of all of the taxi zones in NYC.\n\n\nNow, let’s check the `taxi_zone_geom` table.\n\n**taxi_zone_geom**\n\nChecking for values in the `zone_id` column:",
      "metadata": {}
    },
    {
      "cell_type": "code",
      "source": "SELECT\nDISTINCT CAST(zone_id AS INT64) AS zone_number\nFROM `bigquery-public-data.new_york_taxi_trips.taxi_zone_geom`\nORDER BY zone_number\n\nChecking for values in the zone_name column:\n\nSELECT\nDISTINCT zone_name\nFROM `bigquery-public-data.new_york_taxi_trips.taxi_zone_geom`\nORDER BY zone_name",
      "metadata": {},
      "execution_count": null,
      "outputs": []
    },
    {
      "cell_type": "markdown",
      "source": "Both the `zone_id` and `zone_name` columns deliver 260 distinct values ranging from 1-263. Because of this, some possible values are not in this table. The possible zones missing from the table are 57, 104, and 105. Looking into this further, I found out that each of these zones share the same name as other zones. Zones 56 and 57 are both Corona in the Queens borough, and 103, 104, and 105 make up Liberty Island, Ellis Island, and the Governor’s Island, respectively (see references at end). Even though each of these individual islands have a unique zone number, the name of the zone consists of all three islands.\n\nDouble checking to see if these zones exist in the table using `WHERE` instead of `DISTINCT`, in case the same zone_name might have hid the other zones.",
      "metadata": {}
    },
    {
      "cell_type": "code",
      "source": "SELECT CAST(zone_id AS INT64)\nFROM `bigquery-public-data.new_york_taxi_trips.taxi_zone_geom`\nWHERE zone_id = \"57\"",
      "metadata": {},
      "execution_count": null,
      "outputs": []
    },
    {
      "cell_type": "markdown",
      "source": "Zone 57 does not appear anywhere.",
      "metadata": {}
    },
    {
      "cell_type": "code",
      "source": "SELECT CAST(zone_id AS INT64)\nFROM `bigquery-public-data.new_york_taxi_trips.taxi_zone_geom`\nWHERE zone_id = \"104\"",
      "metadata": {},
      "execution_count": null,
      "outputs": []
    },
    {
      "cell_type": "markdown",
      "source": "Zone 104 does not appear anywhere.",
      "metadata": {}
    },
    {
      "cell_type": "code",
      "source": "SELECT CAST(zone_id AS INT64)\nFROM `bigquery-public-data.new_york_taxi_trips.taxi_zone_geom`\nWHERE zone_id = \"105\"",
      "metadata": {},
      "execution_count": null,
      "outputs": []
    },
    {
      "cell_type": "markdown",
      "source": "Zone 105 also does not appear anywhere. It could be very likely that these zones were combined together. While I don’t know for sure, I will keep going from here, acknowledging that there might be possible limitations of the data.\n\n\n### Identifying the Boroughs\n\nI checked for values in the borough column of the `taxi_zone_geom` table:",
      "metadata": {}
    },
    {
      "cell_type": "code",
      "source": "SELECT\nDISTINCT borough\nFROM `bigquery-public-data.new_york_taxi_trips.taxi_zone_geom`\nORDER BY borough",
      "metadata": {},
      "execution_count": null,
      "outputs": []
    },
    {
      "cell_type": "markdown",
      "source": "The query delivers six results for boroughs, one of them labeled “EWR”.\nThis next query finds what rows have EWR listed for the borough:",
      "metadata": {}
    },
    {
      "cell_type": "code",
      "source": "SELECT *\nFROM `bigquery-public-data.new_york_taxi_trips.taxi_zone_geom`\nWHERE borough = \"EWR\"\nLIMIT 1000",
      "metadata": {},
      "execution_count": null,
      "outputs": []
    },
    {
      "cell_type": "markdown",
      "source": "The query returns the Newark Airport, which is in Newark, New Jersey, not New York City. Upon further research, the Newark Airport is indeed zone 1 in the NYC taxi system, even though it is not located in NYC.\n\n## Analysis\n\nIn this next query, I joined the `zone_id` column from the `taxi_zone_geom` table with the `pickup_location_id` and `dropoff_location_id` columns from the `tlc_green_trips_2022` table. I did this twice, so I could have one column listing the routes between specific taxi zones, and another column listing the routes between the boroughs. I used aliases for all four join statements so I could join columns from the same tables four times.\n\nThen, I aggregated the `pickup_location_id` with `COUNT` to find out which trips were taken the most often in 2022. I am only doing a `COUNT` of pickups because the `COUNT` of pickups and dropoffs is the same, creating a redundant column. To get a percentage for each route out of all the different routes, I used the `OVER` function.\n\nBy grouping the pickup and dropoff zones together, I was able to calculate the frequency of every possible combination of pickup and dropoff taxi zones in NYC.",
      "metadata": {}
    },
    {
      "cell_type": "code",
      "source": "SELECT\n--making the columns taxi_route (zone to zone), borough_route (borough to borough), frequency(a COUNT aggregate of pickup_location_id), and percent (using the OVER function).\n  \n  CONCAT(geom1.zone_name, \" - \", geom2.zone_name) AS taxi_route,\n  CONCAT(geom3.borough, \" - \", geom4.borough) AS borough_route,\n  COUNT(pickup_location_id) AS frequency,\n  COUNT(*) * 100.0 / SUM(COUNT(*)) OVER() AS percent\n  \nFROM `bigquery-public-data.new_york_taxi_trips.tlc_green_trips_2022`\n\n--join the taxi zone names to the ids\n--joining pickup_location_id and dropoff_location_id to zone_id of the taxi_zone_geom table (aliased as \"geom1\" and \"geom2\") for the taxi_route column\nJOIN\n  bigquery-public-data.new_york_taxi_trips.taxi_zone_geom AS geom1\nON pickup_location_id = geom1.zone_id\nJOIN\n  bigquery-public-data.new_york_taxi_trips.taxi_zone_geom AS geom2\nON dropoff_location_id = geom2.zone_id\n--joining the same columns to zone_id of the taxi_zone_geom table (aliased as \"geom3\" and \"geom4\") for the taxi_borough column\nJOIN\n  bigquery-public-data.new_york_taxi_trips.taxi_zone_geom AS geom3\nON pickup_location_id = geom3.zone_id\nJOIN\n  bigquery-public-data.new_york_taxi_trips.taxi_zone_geom AS geom4\nON dropoff_location_id = geom4.zone_id\n\n--grouping by all of the columns that were previously used. Because they were all used, they must be included in the GROUP BY clause.\nGROUP BY\n  pickup_location_id,\n  dropoff_location_id,\n  geom1.zone_name,\n  geom2.zone_name,\n  geom3.borough,\n  geom4.borough\n--sorting by the COUNT aggregate of pickup_location_id (in descending order) as we want to see which routes were taken the most.\nORDER BY\n  COUNT(pickup_location_id) DESC\nLIMIT 1000",
      "metadata": {},
      "execution_count": null,
      "outputs": []
    },
    {
      "cell_type": "markdown",
      "source": "## Conclusion\n\nLooking at the results, it is not even a competition in that the East Harlem area receives the most amount of routes by the green taxi service, both with pickups and dropoffs. The top two routes listed, between the north and south parts of East Harlem, make up more than 4.2% of all possible route combinations between zones. Taking a bigger picture look, the `borough_route` column shows that most of the high frequent routes take place within Manhattan.\n\nOne limitation of this study is that I only looked at a table of trips for green taxis in the year 2022. It is very plausible that tables containing data about the yellow taxis, or tables of the green taxis from previous years, could contain different information and insights.\n\n## References\n\nThis is list of all NYC Taxi Zones, made by user fivethirtyeight:\nhttps://github.com/fivethirtyeight/uber-tlc-foil-response/blob/master/uber-trip-data/taxi-zone-lookup.csv\n\nThis is a map of all NYC Taxi Zones by cityofnewyork.us:\nhttps://data.cityofnewyork.us/Transportation/NYC-Taxi-Zones/d3c5-ddgc",
      "metadata": {}
    }
  ]
}
