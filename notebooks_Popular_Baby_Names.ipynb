{
  "metadata": {
    "language_info": {
      "codemirror_mode": {
        "name": "python",
        "version": 3
      },
      "file_extension": ".py",
      "mimetype": "text/x-python",
      "name": "python",
      "nbconvert_exporter": "python",
      "pygments_lexer": "ipython3",
      "version": "3.8"
    },
    "kernelspec": {
      "name": "python",
      "display_name": "Python (Pyodide)",
      "language": "python"
    }
  },
  "nbformat_minor": 4,
  "nbformat": 4,
  "cells": [
    {
      "cell_type": "markdown",
      "source": "# Popular Baby Names Dataset\n\nIn this project, I will be loading the Popular Baby Names dataset from the City of New York. I will be preparing it for analysis, and doing some initial EDA (Exploratory Data Analysis) in Python.\n\nThe dataset I am using: https://catalog.data.gov/dataset/popular-baby-names\n\nThese first few lines of code import than pandas and numpy packages, as well as loading the dataset from a csv file. I'll also take a general glance at the data.",
      "metadata": {
        "tags": []
      }
    },
    {
      "cell_type": "code",
      "source": "import pandas as pd\nimport numpy as np",
      "metadata": {
        "trusted": true
      },
      "execution_count": 1,
      "outputs": []
    },
    {
      "cell_type": "code",
      "source": "baby_data = pd.read_csv(\"Popular_Baby_Names.csv\")",
      "metadata": {
        "trusted": true
      },
      "execution_count": 2,
      "outputs": []
    },
    {
      "cell_type": "code",
      "source": "baby_data.head()",
      "metadata": {
        "tags": [],
        "trusted": true
      },
      "execution_count": 3,
      "outputs": [
        {
          "execution_count": 3,
          "output_type": "execute_result",
          "data": {
            "text/plain": "   Year of Birth  Gender Ethnicity Child's First Name  Count  Rank\n0           2011  FEMALE  HISPANIC          GERALDINE     13    75\n1           2011  FEMALE  HISPANIC                GIA     21    67\n2           2011  FEMALE  HISPANIC             GIANNA     49    42\n3           2011  FEMALE  HISPANIC            GISELLE     38    51\n4           2011  FEMALE  HISPANIC              GRACE     36    53",
            "text/html": "<div>\n<style scoped>\n    .dataframe tbody tr th:only-of-type {\n        vertical-align: middle;\n    }\n\n    .dataframe tbody tr th {\n        vertical-align: top;\n    }\n\n    .dataframe thead th {\n        text-align: right;\n    }\n</style>\n<table border=\"1\" class=\"dataframe\">\n  <thead>\n    <tr style=\"text-align: right;\">\n      <th></th>\n      <th>Year of Birth</th>\n      <th>Gender</th>\n      <th>Ethnicity</th>\n      <th>Child's First Name</th>\n      <th>Count</th>\n      <th>Rank</th>\n    </tr>\n  </thead>\n  <tbody>\n    <tr>\n      <th>0</th>\n      <td>2011</td>\n      <td>FEMALE</td>\n      <td>HISPANIC</td>\n      <td>GERALDINE</td>\n      <td>13</td>\n      <td>75</td>\n    </tr>\n    <tr>\n      <th>1</th>\n      <td>2011</td>\n      <td>FEMALE</td>\n      <td>HISPANIC</td>\n      <td>GIA</td>\n      <td>21</td>\n      <td>67</td>\n    </tr>\n    <tr>\n      <th>2</th>\n      <td>2011</td>\n      <td>FEMALE</td>\n      <td>HISPANIC</td>\n      <td>GIANNA</td>\n      <td>49</td>\n      <td>42</td>\n    </tr>\n    <tr>\n      <th>3</th>\n      <td>2011</td>\n      <td>FEMALE</td>\n      <td>HISPANIC</td>\n      <td>GISELLE</td>\n      <td>38</td>\n      <td>51</td>\n    </tr>\n    <tr>\n      <th>4</th>\n      <td>2011</td>\n      <td>FEMALE</td>\n      <td>HISPANIC</td>\n      <td>GRACE</td>\n      <td>36</td>\n      <td>53</td>\n    </tr>\n  </tbody>\n</table>\n</div>"
          },
          "metadata": {}
        }
      ]
    },
    {
      "cell_type": "code",
      "source": "baby_data.info()",
      "metadata": {
        "tags": [],
        "trusted": true
      },
      "execution_count": 4,
      "outputs": [
        {
          "name": "stdout",
          "text": "<class 'pandas.core.frame.DataFrame'>\nRangeIndex: 57582 entries, 0 to 57581\nData columns (total 6 columns):\n #   Column              Non-Null Count  Dtype \n---  ------              --------------  ----- \n 0   Year of Birth       57582 non-null  int64 \n 1   Gender              57582 non-null  object\n 2   Ethnicity           57582 non-null  object\n 3   Child's First Name  57582 non-null  object\n 4   Count               57582 non-null  int64 \n 5   Rank                57582 non-null  int64 \ndtypes: int64(3), object(3)\nmemory usage: 2.0+ MB\n",
          "output_type": "stream"
        }
      ]
    },
    {
      "cell_type": "markdown",
      "source": "Some things to notice right away: Names are categorized by year, gender, ethnicity, name, count (acting like a raw score), and rank. This gives a lot of variables for examining the data and allows the data to be viewed in different ways.\n\nI took a look into the values for some of the variables:",
      "metadata": {}
    },
    {
      "cell_type": "markdown",
      "source": "## Ethnicity\n\nI asked myself a few questions about the attributes of this data:\n\n  How many names are in this dataset for each ethnicity? For each year?\n  How popular are these names?\n  What are the most popular names for each ethnicity?\n\n  \nThe next cell attempts to answer the first quesiton.",
      "metadata": {
        "tags": []
      }
    },
    {
      "cell_type": "code",
      "source": "baby_data.groupby(\"Ethnicity\").size()",
      "metadata": {
        "tags": [],
        "trusted": true
      },
      "execution_count": 5,
      "outputs": [
        {
          "execution_count": 5,
          "output_type": "execute_result",
          "data": {
            "text/plain": "Ethnicity\nASIAN AND PACI                 2125\nASIAN AND PACIFIC ISLANDER     7830\nBLACK NON HISP                 2093\nBLACK NON HISPANIC             8335\nHISPANIC                      16930\nWHITE NON HISP                 4142\nWHITE NON HISPANIC            16127\ndtype: int64"
          },
          "metadata": {}
        }
      ]
    },
    {
      "cell_type": "markdown",
      "source": "Something must have occured in the data where the names for some of the ethnicities were not filled in correctly. To fix this, I used the replace() method to make the ethnicity names consistent. I also lowercased the gender values and title cased the names.",
      "metadata": {}
    },
    {
      "cell_type": "code",
      "source": "# replacing text for ethnicity\n\nethnicities = [\"WHITE NON HISP\", \"WHITE NON HISPANIC\",\n               \"ASIAN AND PACI\", \"ASIAN AND PACIFIC ISLANDER\",\n               \"BLACK NON HISP\", \"BLACK NON HISPANIC\",\n               \"HISPANIC\"]\n\nethnicities_new = [\"White\", \"White\",\n                   \"Asian/PI\", \"Asian/PI\",\n                   \"Black\", \"Black\",\n                   \"Hispanic\"]\n\nbaby_data = baby_data.replace(ethnicities, ethnicities_new)\n\n# lowercasing and title casing the gender and names, repsectively:\n\nbaby_data[\"Gender\"] = baby_data[\"Gender\"].str.lower()\nbaby_data[\"Child's First Name\"] = baby_data[\"Child's First Name\"].str.title()\n\nbaby_data.head()",
      "metadata": {
        "tags": [],
        "trusted": true
      },
      "execution_count": 6,
      "outputs": [
        {
          "execution_count": 6,
          "output_type": "execute_result",
          "data": {
            "text/plain": "   Year of Birth  Gender Ethnicity Child's First Name  Count  Rank\n0           2011  female  Hispanic          Geraldine     13    75\n1           2011  female  Hispanic                Gia     21    67\n2           2011  female  Hispanic             Gianna     49    42\n3           2011  female  Hispanic            Giselle     38    51\n4           2011  female  Hispanic              Grace     36    53",
            "text/html": "<div>\n<style scoped>\n    .dataframe tbody tr th:only-of-type {\n        vertical-align: middle;\n    }\n\n    .dataframe tbody tr th {\n        vertical-align: top;\n    }\n\n    .dataframe thead th {\n        text-align: right;\n    }\n</style>\n<table border=\"1\" class=\"dataframe\">\n  <thead>\n    <tr style=\"text-align: right;\">\n      <th></th>\n      <th>Year of Birth</th>\n      <th>Gender</th>\n      <th>Ethnicity</th>\n      <th>Child's First Name</th>\n      <th>Count</th>\n      <th>Rank</th>\n    </tr>\n  </thead>\n  <tbody>\n    <tr>\n      <th>0</th>\n      <td>2011</td>\n      <td>female</td>\n      <td>Hispanic</td>\n      <td>Geraldine</td>\n      <td>13</td>\n      <td>75</td>\n    </tr>\n    <tr>\n      <th>1</th>\n      <td>2011</td>\n      <td>female</td>\n      <td>Hispanic</td>\n      <td>Gia</td>\n      <td>21</td>\n      <td>67</td>\n    </tr>\n    <tr>\n      <th>2</th>\n      <td>2011</td>\n      <td>female</td>\n      <td>Hispanic</td>\n      <td>Gianna</td>\n      <td>49</td>\n      <td>42</td>\n    </tr>\n    <tr>\n      <th>3</th>\n      <td>2011</td>\n      <td>female</td>\n      <td>Hispanic</td>\n      <td>Giselle</td>\n      <td>38</td>\n      <td>51</td>\n    </tr>\n    <tr>\n      <th>4</th>\n      <td>2011</td>\n      <td>female</td>\n      <td>Hispanic</td>\n      <td>Grace</td>\n      <td>36</td>\n      <td>53</td>\n    </tr>\n  </tbody>\n</table>\n</div>"
          },
          "metadata": {}
        }
      ]
    },
    {
      "cell_type": "code",
      "source": "baby_data.groupby(\"Ethnicity\").size()",
      "metadata": {
        "trusted": true
      },
      "execution_count": 7,
      "outputs": [
        {
          "execution_count": 7,
          "output_type": "execute_result",
          "data": {
            "text/plain": "Ethnicity\nAsian/PI     9955\nBlack       10428\nHispanic    16930\nWhite       20269\ndtype: int64"
          },
          "metadata": {}
        }
      ]
    },
    {
      "cell_type": "markdown",
      "source": "I also wanted to find out the most popular names for each ethnicity.",
      "metadata": {}
    },
    {
      "cell_type": "code",
      "source": "# group by ethnicity, sort by name count descending\nbaby_data.sort_values([\"Count\", \"Ethnicity\"], ascending=False).groupby(\"Ethnicity\").head(2)",
      "metadata": {
        "tags": [],
        "trusted": true
      },
      "execution_count": 8,
      "outputs": [
        {
          "execution_count": 8,
          "output_type": "execute_result",
          "data": {
            "text/plain": "       Year of Birth Gender Ethnicity Child's First Name  Count  Rank\n3447            2011   male  Hispanic             Jayden    426     1\n17403           2011   male  Hispanic             Jayden    426     1\n9612            2013   male     White              David    304     1\n11328           2013   male     White              David    304     1\n9472            2013   male  Asian/PI             Jayden    220     1\n20005           2013   male  Asian/PI             Jayden    220     1\n795             2011   male     Black             Jayden    184     1\n2246            2011   male     Black             Jayden    184     1",
            "text/html": "<div>\n<style scoped>\n    .dataframe tbody tr th:only-of-type {\n        vertical-align: middle;\n    }\n\n    .dataframe tbody tr th {\n        vertical-align: top;\n    }\n\n    .dataframe thead th {\n        text-align: right;\n    }\n</style>\n<table border=\"1\" class=\"dataframe\">\n  <thead>\n    <tr style=\"text-align: right;\">\n      <th></th>\n      <th>Year of Birth</th>\n      <th>Gender</th>\n      <th>Ethnicity</th>\n      <th>Child's First Name</th>\n      <th>Count</th>\n      <th>Rank</th>\n    </tr>\n  </thead>\n  <tbody>\n    <tr>\n      <th>3447</th>\n      <td>2011</td>\n      <td>male</td>\n      <td>Hispanic</td>\n      <td>Jayden</td>\n      <td>426</td>\n      <td>1</td>\n    </tr>\n    <tr>\n      <th>17403</th>\n      <td>2011</td>\n      <td>male</td>\n      <td>Hispanic</td>\n      <td>Jayden</td>\n      <td>426</td>\n      <td>1</td>\n    </tr>\n    <tr>\n      <th>9612</th>\n      <td>2013</td>\n      <td>male</td>\n      <td>White</td>\n      <td>David</td>\n      <td>304</td>\n      <td>1</td>\n    </tr>\n    <tr>\n      <th>11328</th>\n      <td>2013</td>\n      <td>male</td>\n      <td>White</td>\n      <td>David</td>\n      <td>304</td>\n      <td>1</td>\n    </tr>\n    <tr>\n      <th>9472</th>\n      <td>2013</td>\n      <td>male</td>\n      <td>Asian/PI</td>\n      <td>Jayden</td>\n      <td>220</td>\n      <td>1</td>\n    </tr>\n    <tr>\n      <th>20005</th>\n      <td>2013</td>\n      <td>male</td>\n      <td>Asian/PI</td>\n      <td>Jayden</td>\n      <td>220</td>\n      <td>1</td>\n    </tr>\n    <tr>\n      <th>795</th>\n      <td>2011</td>\n      <td>male</td>\n      <td>Black</td>\n      <td>Jayden</td>\n      <td>184</td>\n      <td>1</td>\n    </tr>\n    <tr>\n      <th>2246</th>\n      <td>2011</td>\n      <td>male</td>\n      <td>Black</td>\n      <td>Jayden</td>\n      <td>184</td>\n      <td>1</td>\n    </tr>\n  </tbody>\n</table>\n</div>"
          },
          "metadata": {}
        }
      ]
    },
    {
      "cell_type": "markdown",
      "source": "It looks like there are duplicate rows. I will remove them and do this again.",
      "metadata": {}
    },
    {
      "cell_type": "code",
      "source": "# remove duplicates\nbaby_data_distinct = baby_data.drop_duplicates()\n\nbaby_data_distinct.sort_values([\"Count\", \"Ethnicity\"], ascending=False).groupby(\"Ethnicity\").head(2)",
      "metadata": {
        "tags": [],
        "trusted": true
      },
      "execution_count": 9,
      "outputs": [
        {
          "execution_count": 9,
          "output_type": "execute_result",
          "data": {
            "text/plain": "       Year of Birth  Gender Ethnicity Child's First Name  Count  Rank\n3447            2011    male  Hispanic             Jayden    426     1\n37557           2019    male  Hispanic               Liam    423     1\n9612            2013    male     White              David    304     1\n5791            2012    male     White             Joseph    300     1\n9472            2013    male  Asian/PI             Jayden    220     1\n5129            2012    male  Asian/PI               Ryan    197     1\n795             2011    male     Black             Jayden    184     1\n1218            2011  female     Black            Madison    176     1",
            "text/html": "<div>\n<style scoped>\n    .dataframe tbody tr th:only-of-type {\n        vertical-align: middle;\n    }\n\n    .dataframe tbody tr th {\n        vertical-align: top;\n    }\n\n    .dataframe thead th {\n        text-align: right;\n    }\n</style>\n<table border=\"1\" class=\"dataframe\">\n  <thead>\n    <tr style=\"text-align: right;\">\n      <th></th>\n      <th>Year of Birth</th>\n      <th>Gender</th>\n      <th>Ethnicity</th>\n      <th>Child's First Name</th>\n      <th>Count</th>\n      <th>Rank</th>\n    </tr>\n  </thead>\n  <tbody>\n    <tr>\n      <th>3447</th>\n      <td>2011</td>\n      <td>male</td>\n      <td>Hispanic</td>\n      <td>Jayden</td>\n      <td>426</td>\n      <td>1</td>\n    </tr>\n    <tr>\n      <th>37557</th>\n      <td>2019</td>\n      <td>male</td>\n      <td>Hispanic</td>\n      <td>Liam</td>\n      <td>423</td>\n      <td>1</td>\n    </tr>\n    <tr>\n      <th>9612</th>\n      <td>2013</td>\n      <td>male</td>\n      <td>White</td>\n      <td>David</td>\n      <td>304</td>\n      <td>1</td>\n    </tr>\n    <tr>\n      <th>5791</th>\n      <td>2012</td>\n      <td>male</td>\n      <td>White</td>\n      <td>Joseph</td>\n      <td>300</td>\n      <td>1</td>\n    </tr>\n    <tr>\n      <th>9472</th>\n      <td>2013</td>\n      <td>male</td>\n      <td>Asian/PI</td>\n      <td>Jayden</td>\n      <td>220</td>\n      <td>1</td>\n    </tr>\n    <tr>\n      <th>5129</th>\n      <td>2012</td>\n      <td>male</td>\n      <td>Asian/PI</td>\n      <td>Ryan</td>\n      <td>197</td>\n      <td>1</td>\n    </tr>\n    <tr>\n      <th>795</th>\n      <td>2011</td>\n      <td>male</td>\n      <td>Black</td>\n      <td>Jayden</td>\n      <td>184</td>\n      <td>1</td>\n    </tr>\n    <tr>\n      <th>1218</th>\n      <td>2011</td>\n      <td>female</td>\n      <td>Black</td>\n      <td>Madison</td>\n      <td>176</td>\n      <td>1</td>\n    </tr>\n  </tbody>\n</table>\n</div>"
          },
          "metadata": {}
        }
      ]
    },
    {
      "cell_type": "markdown",
      "source": "According to this data, Jayden is a popular baby name across many ethnicities.\n\n## Data Across Years\n\nNext, I will look at the data for different years. I would like to know the count for every year.",
      "metadata": {}
    },
    {
      "cell_type": "code",
      "source": "baby_data.groupby(\"Year of Birth\").size()",
      "metadata": {
        "tags": [],
        "trusted": true
      },
      "execution_count": 10,
      "outputs": [
        {
          "execution_count": 10,
          "output_type": "execute_result",
          "data": {
            "text/plain": "Year of Birth\n2011    11752\n2012    11871\n2013    11889\n2014    12090\n2015     2045\n2016     2063\n2017     1973\n2018     1964\n2019     1935\ndtype: int64"
          },
          "metadata": {}
        }
      ]
    },
    {
      "cell_type": "markdown",
      "source": "There are higher values for 2011-2014 than there are 2015-2019.\n\nI would also like to know the top boy and girl names for every year:",
      "metadata": {}
    },
    {
      "cell_type": "code",
      "source": "baby_data_distinct.sort_values([\"Year of Birth\", \"Count\"], ascending=[True, False]).groupby([\"Year of Birth\", \"Gender\"]).head(1)",
      "metadata": {
        "tags": [],
        "trusted": true
      },
      "execution_count": 11,
      "outputs": [
        {
          "execution_count": 11,
          "output_type": "execute_result",
          "data": {
            "text/plain": "       Year of Birth  Gender Ethnicity Child's First Name  Count  Rank\n3447            2011    male  Hispanic             Jayden    426     1\n22              2011  female  Hispanic           Isabella    331     1\n5489            2012    male  Hispanic             Jayden    364     1\n4434            2012  female  Hispanic           Isabella    327     1\n6142            2013    male  Hispanic             Jayden    352     1\n7607            2013  female  Hispanic           Isabella    326     1\n13454           2014  female  Hispanic           Isabella    331     1\n7574            2014    male  Hispanic               Liam    312     1\n31934           2015    male  Hispanic               Liam    356     1\n30844           2015  female  Hispanic           Isabella    307     1\n31488           2016    male  Hispanic               Liam    387     1\n32510           2016  female  Hispanic           Isabella    276     1\n24785           2017    male  Hispanic               Liam    407     1\n24048           2017  female     White             Esther    260     1\n6438            2018    male  Hispanic               Liam    399     1\n47816           2018  female  Hispanic           Isabella    285     1\n37557           2019    male  Hispanic               Liam    423     1\n37821           2019  female  Hispanic           Isabella    231     1",
            "text/html": "<div>\n<style scoped>\n    .dataframe tbody tr th:only-of-type {\n        vertical-align: middle;\n    }\n\n    .dataframe tbody tr th {\n        vertical-align: top;\n    }\n\n    .dataframe thead th {\n        text-align: right;\n    }\n</style>\n<table border=\"1\" class=\"dataframe\">\n  <thead>\n    <tr style=\"text-align: right;\">\n      <th></th>\n      <th>Year of Birth</th>\n      <th>Gender</th>\n      <th>Ethnicity</th>\n      <th>Child's First Name</th>\n      <th>Count</th>\n      <th>Rank</th>\n    </tr>\n  </thead>\n  <tbody>\n    <tr>\n      <th>3447</th>\n      <td>2011</td>\n      <td>male</td>\n      <td>Hispanic</td>\n      <td>Jayden</td>\n      <td>426</td>\n      <td>1</td>\n    </tr>\n    <tr>\n      <th>22</th>\n      <td>2011</td>\n      <td>female</td>\n      <td>Hispanic</td>\n      <td>Isabella</td>\n      <td>331</td>\n      <td>1</td>\n    </tr>\n    <tr>\n      <th>5489</th>\n      <td>2012</td>\n      <td>male</td>\n      <td>Hispanic</td>\n      <td>Jayden</td>\n      <td>364</td>\n      <td>1</td>\n    </tr>\n    <tr>\n      <th>4434</th>\n      <td>2012</td>\n      <td>female</td>\n      <td>Hispanic</td>\n      <td>Isabella</td>\n      <td>327</td>\n      <td>1</td>\n    </tr>\n    <tr>\n      <th>6142</th>\n      <td>2013</td>\n      <td>male</td>\n      <td>Hispanic</td>\n      <td>Jayden</td>\n      <td>352</td>\n      <td>1</td>\n    </tr>\n    <tr>\n      <th>7607</th>\n      <td>2013</td>\n      <td>female</td>\n      <td>Hispanic</td>\n      <td>Isabella</td>\n      <td>326</td>\n      <td>1</td>\n    </tr>\n    <tr>\n      <th>13454</th>\n      <td>2014</td>\n      <td>female</td>\n      <td>Hispanic</td>\n      <td>Isabella</td>\n      <td>331</td>\n      <td>1</td>\n    </tr>\n    <tr>\n      <th>7574</th>\n      <td>2014</td>\n      <td>male</td>\n      <td>Hispanic</td>\n      <td>Liam</td>\n      <td>312</td>\n      <td>1</td>\n    </tr>\n    <tr>\n      <th>31934</th>\n      <td>2015</td>\n      <td>male</td>\n      <td>Hispanic</td>\n      <td>Liam</td>\n      <td>356</td>\n      <td>1</td>\n    </tr>\n    <tr>\n      <th>30844</th>\n      <td>2015</td>\n      <td>female</td>\n      <td>Hispanic</td>\n      <td>Isabella</td>\n      <td>307</td>\n      <td>1</td>\n    </tr>\n    <tr>\n      <th>31488</th>\n      <td>2016</td>\n      <td>male</td>\n      <td>Hispanic</td>\n      <td>Liam</td>\n      <td>387</td>\n      <td>1</td>\n    </tr>\n    <tr>\n      <th>32510</th>\n      <td>2016</td>\n      <td>female</td>\n      <td>Hispanic</td>\n      <td>Isabella</td>\n      <td>276</td>\n      <td>1</td>\n    </tr>\n    <tr>\n      <th>24785</th>\n      <td>2017</td>\n      <td>male</td>\n      <td>Hispanic</td>\n      <td>Liam</td>\n      <td>407</td>\n      <td>1</td>\n    </tr>\n    <tr>\n      <th>24048</th>\n      <td>2017</td>\n      <td>female</td>\n      <td>White</td>\n      <td>Esther</td>\n      <td>260</td>\n      <td>1</td>\n    </tr>\n    <tr>\n      <th>6438</th>\n      <td>2018</td>\n      <td>male</td>\n      <td>Hispanic</td>\n      <td>Liam</td>\n      <td>399</td>\n      <td>1</td>\n    </tr>\n    <tr>\n      <th>47816</th>\n      <td>2018</td>\n      <td>female</td>\n      <td>Hispanic</td>\n      <td>Isabella</td>\n      <td>285</td>\n      <td>1</td>\n    </tr>\n    <tr>\n      <th>37557</th>\n      <td>2019</td>\n      <td>male</td>\n      <td>Hispanic</td>\n      <td>Liam</td>\n      <td>423</td>\n      <td>1</td>\n    </tr>\n    <tr>\n      <th>37821</th>\n      <td>2019</td>\n      <td>female</td>\n      <td>Hispanic</td>\n      <td>Isabella</td>\n      <td>231</td>\n      <td>1</td>\n    </tr>\n  </tbody>\n</table>\n</div>"
          },
          "metadata": {}
        }
      ]
    },
    {
      "cell_type": "markdown",
      "source": "Jayden was the most popular boy name from 2011-2013, and Isabella was the most popular girl name for every year except 2017!\n\n## Year, Gender, and Ethnicity\n\nI also want to see the most popular names for each year, for different ethnicities:",
      "metadata": {}
    },
    {
      "cell_type": "code",
      "source": "baby_data_distinct.sort_values([\"Year of Birth\", \"Count\"], ascending=[True, False]).groupby([\"Year of Birth\", \"Ethnicity\", \"Gender\"]).head(1)",
      "metadata": {
        "tags": [],
        "trusted": true
      },
      "execution_count": 12,
      "outputs": [
        {
          "execution_count": 12,
          "output_type": "execute_result",
          "data": {
            "text/plain": "       Year of Birth  Gender Ethnicity Child's First Name  Count  Rank\n3447            2011    male  Hispanic             Jayden    426     1\n22              2011  female  Hispanic           Isabella    331     1\n1849            2011    male     White            Michael    292     1\n322             2011  female     White             Esther    224     1\n795             2011    male     Black             Jayden    184     1\n...              ...     ...       ...                ...    ...   ...\n38769           2019  female     White              Chaya    209     1\n38075           2019    male  Asian/PI              Ethan    154     1\n39152           2019    male     Black               Noah    135     1\n38250           2019  female  Asian/PI              Chloe    131     1\n39320           2019  female     Black                Ava    100     1\n\n[72 rows x 6 columns]",
            "text/html": "<div>\n<style scoped>\n    .dataframe tbody tr th:only-of-type {\n        vertical-align: middle;\n    }\n\n    .dataframe tbody tr th {\n        vertical-align: top;\n    }\n\n    .dataframe thead th {\n        text-align: right;\n    }\n</style>\n<table border=\"1\" class=\"dataframe\">\n  <thead>\n    <tr style=\"text-align: right;\">\n      <th></th>\n      <th>Year of Birth</th>\n      <th>Gender</th>\n      <th>Ethnicity</th>\n      <th>Child's First Name</th>\n      <th>Count</th>\n      <th>Rank</th>\n    </tr>\n  </thead>\n  <tbody>\n    <tr>\n      <th>3447</th>\n      <td>2011</td>\n      <td>male</td>\n      <td>Hispanic</td>\n      <td>Jayden</td>\n      <td>426</td>\n      <td>1</td>\n    </tr>\n    <tr>\n      <th>22</th>\n      <td>2011</td>\n      <td>female</td>\n      <td>Hispanic</td>\n      <td>Isabella</td>\n      <td>331</td>\n      <td>1</td>\n    </tr>\n    <tr>\n      <th>1849</th>\n      <td>2011</td>\n      <td>male</td>\n      <td>White</td>\n      <td>Michael</td>\n      <td>292</td>\n      <td>1</td>\n    </tr>\n    <tr>\n      <th>322</th>\n      <td>2011</td>\n      <td>female</td>\n      <td>White</td>\n      <td>Esther</td>\n      <td>224</td>\n      <td>1</td>\n    </tr>\n    <tr>\n      <th>795</th>\n      <td>2011</td>\n      <td>male</td>\n      <td>Black</td>\n      <td>Jayden</td>\n      <td>184</td>\n      <td>1</td>\n    </tr>\n    <tr>\n      <th>...</th>\n      <td>...</td>\n      <td>...</td>\n      <td>...</td>\n      <td>...</td>\n      <td>...</td>\n      <td>...</td>\n    </tr>\n    <tr>\n      <th>38769</th>\n      <td>2019</td>\n      <td>female</td>\n      <td>White</td>\n      <td>Chaya</td>\n      <td>209</td>\n      <td>1</td>\n    </tr>\n    <tr>\n      <th>38075</th>\n      <td>2019</td>\n      <td>male</td>\n      <td>Asian/PI</td>\n      <td>Ethan</td>\n      <td>154</td>\n      <td>1</td>\n    </tr>\n    <tr>\n      <th>39152</th>\n      <td>2019</td>\n      <td>male</td>\n      <td>Black</td>\n      <td>Noah</td>\n      <td>135</td>\n      <td>1</td>\n    </tr>\n    <tr>\n      <th>38250</th>\n      <td>2019</td>\n      <td>female</td>\n      <td>Asian/PI</td>\n      <td>Chloe</td>\n      <td>131</td>\n      <td>1</td>\n    </tr>\n    <tr>\n      <th>39320</th>\n      <td>2019</td>\n      <td>female</td>\n      <td>Black</td>\n      <td>Ava</td>\n      <td>100</td>\n      <td>1</td>\n    </tr>\n  </tbody>\n</table>\n<p>72 rows × 6 columns</p>\n</div>"
          },
          "metadata": {}
        }
      ]
    },
    {
      "cell_type": "markdown",
      "source": "While this data is what I'm looking for, is it not presented in the best way. To fix this, I made a pivot table which puts the years in the rows, and the gender and ethnicity in the columns.\nas\nTo do this, I made a boolean mask for names with a ranking of 1, and droppped the Na values. I then dropped duplicates of year, ethnicity, and gender, because duplicates with those columns would prevent me from pivoting. Next, I made a pivot table with the year as the index (rows), the ethnicity as the columns, further grouped by gender, and the names for the values. After this, I sorted the columns by Gender and Ethnicity.",
      "metadata": {}
    },
    {
      "cell_type": "code",
      "source": "# apply a boolean mask with only rank 1 names\nrank_1 = baby_data_distinct[\"Rank\"] != 1\nbaby_data_long = baby_data_distinct.mask(rank_1)\n\n# drop the Na values and duplicates\nbaby_data_long = baby_data_long.dropna()\nbaby_data_long = baby_data_long.drop_duplicates(subset=[\"Year of Birth\", \"Ethnicity\", \"Gender\"])\n\n# make the years integers instead of floats (why are they initially floats?)\nbaby_data_long[\"Year of Birth\"] = baby_data_long[\"Year of Birth\"].astype(int)\n\n# pivot the data to have ethnicites as columns\nbaby_data_wide = baby_data_long.pivot(index=\"Year of Birth\", columns=[\"Gender\", \"Ethnicity\"], values=\"Child's First Name\")\n\n# change the order of the columns\nbaby_data_wide = baby_data_wide.sort_values([\"Gender\", \"Ethnicity\"], axis=1)\n\nbaby_data_wide",
      "metadata": {
        "tags": [],
        "trusted": true
      },
      "execution_count": 13,
      "outputs": [
        {
          "execution_count": 13,
          "output_type": "execute_result",
          "data": {
            "text/plain": "Gender          female                                 male                   \\\nEthnicity     Asian/PI    Black  Hispanic   White  Asian/PI   Black Hispanic   \nYear of Birth                                                                  \n2011            Sophia  Madison  Isabella  Esther     Ethan  Jayden   Jayden   \n2012             Chloe  Madison  Isabella    Emma      Ryan  Jayden   Jayden   \n2013            Sophia  Madison  Isabella  Olivia    Jayden   Ethan   Jayden   \n2014            Olivia  Madison  Isabella  Olivia    Jayden   Ethan     Liam   \n2015            Olivia  Madison  Isabella    Emma    Jayden    Noah     Liam   \n2016            Olivia      Ava  Isabella  Olivia     Ethan    Noah     Liam   \n2017            Olivia      Ava       Mia  Esther  Muhammad    Noah     Liam   \n2018             Chloe      Ava  Isabella  Esther  Muhammad    Noah     Liam   \n2019             Chloe      Ava  Isabella   Chaya     Ethan    Noah     Liam   \n\nGender                  \nEthnicity        White  \nYear of Birth           \n2011           Michael  \n2012            Joseph  \n2013             David  \n2014            Joseph  \n2015             David  \n2016            Joseph  \n2017             David  \n2018             David  \n2019             David  ",
            "text/html": "<div>\n<style scoped>\n    .dataframe tbody tr th:only-of-type {\n        vertical-align: middle;\n    }\n\n    .dataframe tbody tr th {\n        vertical-align: top;\n    }\n\n    .dataframe thead tr th {\n        text-align: left;\n    }\n\n    .dataframe thead tr:last-of-type th {\n        text-align: right;\n    }\n</style>\n<table border=\"1\" class=\"dataframe\">\n  <thead>\n    <tr>\n      <th>Gender</th>\n      <th colspan=\"4\" halign=\"left\">female</th>\n      <th colspan=\"4\" halign=\"left\">male</th>\n    </tr>\n    <tr>\n      <th>Ethnicity</th>\n      <th>Asian/PI</th>\n      <th>Black</th>\n      <th>Hispanic</th>\n      <th>White</th>\n      <th>Asian/PI</th>\n      <th>Black</th>\n      <th>Hispanic</th>\n      <th>White</th>\n    </tr>\n    <tr>\n      <th>Year of Birth</th>\n      <th></th>\n      <th></th>\n      <th></th>\n      <th></th>\n      <th></th>\n      <th></th>\n      <th></th>\n      <th></th>\n    </tr>\n  </thead>\n  <tbody>\n    <tr>\n      <th>2011</th>\n      <td>Sophia</td>\n      <td>Madison</td>\n      <td>Isabella</td>\n      <td>Esther</td>\n      <td>Ethan</td>\n      <td>Jayden</td>\n      <td>Jayden</td>\n      <td>Michael</td>\n    </tr>\n    <tr>\n      <th>2012</th>\n      <td>Chloe</td>\n      <td>Madison</td>\n      <td>Isabella</td>\n      <td>Emma</td>\n      <td>Ryan</td>\n      <td>Jayden</td>\n      <td>Jayden</td>\n      <td>Joseph</td>\n    </tr>\n    <tr>\n      <th>2013</th>\n      <td>Sophia</td>\n      <td>Madison</td>\n      <td>Isabella</td>\n      <td>Olivia</td>\n      <td>Jayden</td>\n      <td>Ethan</td>\n      <td>Jayden</td>\n      <td>David</td>\n    </tr>\n    <tr>\n      <th>2014</th>\n      <td>Olivia</td>\n      <td>Madison</td>\n      <td>Isabella</td>\n      <td>Olivia</td>\n      <td>Jayden</td>\n      <td>Ethan</td>\n      <td>Liam</td>\n      <td>Joseph</td>\n    </tr>\n    <tr>\n      <th>2015</th>\n      <td>Olivia</td>\n      <td>Madison</td>\n      <td>Isabella</td>\n      <td>Emma</td>\n      <td>Jayden</td>\n      <td>Noah</td>\n      <td>Liam</td>\n      <td>David</td>\n    </tr>\n    <tr>\n      <th>2016</th>\n      <td>Olivia</td>\n      <td>Ava</td>\n      <td>Isabella</td>\n      <td>Olivia</td>\n      <td>Ethan</td>\n      <td>Noah</td>\n      <td>Liam</td>\n      <td>Joseph</td>\n    </tr>\n    <tr>\n      <th>2017</th>\n      <td>Olivia</td>\n      <td>Ava</td>\n      <td>Mia</td>\n      <td>Esther</td>\n      <td>Muhammad</td>\n      <td>Noah</td>\n      <td>Liam</td>\n      <td>David</td>\n    </tr>\n    <tr>\n      <th>2018</th>\n      <td>Chloe</td>\n      <td>Ava</td>\n      <td>Isabella</td>\n      <td>Esther</td>\n      <td>Muhammad</td>\n      <td>Noah</td>\n      <td>Liam</td>\n      <td>David</td>\n    </tr>\n    <tr>\n      <th>2019</th>\n      <td>Chloe</td>\n      <td>Ava</td>\n      <td>Isabella</td>\n      <td>Chaya</td>\n      <td>Ethan</td>\n      <td>Noah</td>\n      <td>Liam</td>\n      <td>David</td>\n    </tr>\n  </tbody>\n</table>\n</div>"
          },
          "metadata": {}
        }
      ]
    },
    {
      "cell_type": "markdown",
      "source": "The data is now organized in a much more viewable format.\n\n## Name Distribution\n\nSomething else that makes this dataset interesting is that each name has its own count value. This can allow for analysis of the distribution of names.",
      "metadata": {}
    },
    {
      "cell_type": "code",
      "source": "baby_data_distinct[\"Count\"].describe()",
      "metadata": {
        "trusted": true
      },
      "execution_count": 14,
      "outputs": [
        {
          "execution_count": 14,
          "output_type": "execute_result",
          "data": {
            "text/plain": "count    18053.000000\nmean        33.573589\nstd         38.672649\nmin         10.000000\n25%         13.000000\n50%         20.000000\n75%         35.000000\nmax        426.000000\nName: Count, dtype: float64"
          },
          "metadata": {}
        }
      ]
    },
    {
      "cell_type": "markdown",
      "source": "Because the 75th percentile has a count of only 36, compared to the 426 max, there are a lot of names in this dataset with a low count. In other words, just a fraction of the names are ones that are really popular in this dataset.\n\nLet's look at how many names are above a certain count:",
      "metadata": {}
    },
    {
      "cell_type": "code",
      "source": "count_values = [0, 50, 100, 150, 200, 250, 300]\ndistribution = [len(baby_data_distinct[baby_data_distinct[\"Count\"]>=x]) for x in count_values]\ndistribution_dict = {'Count (popularity)': count_values, 'Names at least': distribution}\ndistribution_df = pd.DataFrame(data=distribution_dict)\ndistribution_df",
      "metadata": {
        "trusted": true
      },
      "execution_count": 15,
      "outputs": [
        {
          "execution_count": 15,
          "output_type": "execute_result",
          "data": {
            "text/plain": "   Count (popularity)  Names at least\n0                   0           18053\n1                  50            2918\n2                 100            1075\n3                 150             487\n4                 200             212\n5                 250              89\n6                 300              24",
            "text/html": "<div>\n<style scoped>\n    .dataframe tbody tr th:only-of-type {\n        vertical-align: middle;\n    }\n\n    .dataframe tbody tr th {\n        vertical-align: top;\n    }\n\n    .dataframe thead th {\n        text-align: right;\n    }\n</style>\n<table border=\"1\" class=\"dataframe\">\n  <thead>\n    <tr style=\"text-align: right;\">\n      <th></th>\n      <th>Count (popularity)</th>\n      <th>Names at least</th>\n    </tr>\n  </thead>\n  <tbody>\n    <tr>\n      <th>0</th>\n      <td>0</td>\n      <td>18053</td>\n    </tr>\n    <tr>\n      <th>1</th>\n      <td>50</td>\n      <td>2918</td>\n    </tr>\n    <tr>\n      <th>2</th>\n      <td>100</td>\n      <td>1075</td>\n    </tr>\n    <tr>\n      <th>3</th>\n      <td>150</td>\n      <td>487</td>\n    </tr>\n    <tr>\n      <th>4</th>\n      <td>200</td>\n      <td>212</td>\n    </tr>\n    <tr>\n      <th>5</th>\n      <td>250</td>\n      <td>89</td>\n    </tr>\n    <tr>\n      <th>6</th>\n      <td>300</td>\n      <td>24</td>\n    </tr>\n  </tbody>\n</table>\n</div>"
          },
          "metadata": {}
        }
      ]
    },
    {
      "cell_type": "markdown",
      "source": "The vast majority of names in this dataset have a count of less than 50. only around 3,000 of the 18,000 names have a count of more than 50.\n\n## Conclusion\n\nThis dataset has a lot of interesting aspects that can be analyzed even further. The variables add several dimensions to the content of the data, and can deliver insights from several different angles. The tasks done in this project are just a few of the ways that this dataset can be manipulated and looked at.",
      "metadata": {}
    }
  ]
}